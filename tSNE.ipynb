{
 "cells": [
  {
   "cell_type": "markdown",
   "id": "ee2d3db6",
   "metadata": {},
   "source": [
    "# Implementing t-SNE from scratch"
   ]
  },
  {
   "cell_type": "code",
   "execution_count": 1,
   "id": "713ae146",
   "metadata": {},
   "outputs": [],
   "source": [
    "import numpy as np\n",
    "import matplotlib.pyplot as plt\n",
    "from mpl_toolkits.mplot3d import Axes3D\n",
    "import seaborn as sns"
   ]
  },
  {
   "cell_type": "code",
   "execution_count": 2,
   "id": "0cef35d7",
   "metadata": {},
   "outputs": [],
   "source": [
    "PERPLEXITY=5\n",
    "g_kernel=1\n",
    "EPOCHS=2000\n",
    "LR=200\n",
    "MOMENTUM=0.9\n",
    "#g_kernel over here means sigma"
   ]
  },
  {
   "cell_type": "code",
   "execution_count": 3,
   "id": "5b47ec60",
   "metadata": {},
   "outputs": [],
   "source": [
    "def getKey(item):\n",
    "    return item[1]"
   ]
  },
  {
   "cell_type": "code",
   "execution_count": 4,
   "id": "bf15d75d",
   "metadata": {},
   "outputs": [],
   "source": [
    "#compute the distance between the neighbours of x1 and return a list of k neighbours\n",
    "#where k is the complexity\n",
    "def k_neighbours(x,x1_index,p_or_q='p'):\n",
    "    x1=x[x1_index]\n",
    "    list_k_neighbours=[]\n",
    "    for i in range(x.shape[0]):\n",
    "        if i!=x1_index:\n",
    "            xi=x[i]\n",
    "            if p_or_q=='p':\n",
    "                distance=np.exp(-np.linalg.norm(x1-xi)**2/(2*g_kernel**2))\n",
    "            else:\n",
    "                distance=(1+np.linalg.norm(x1-xi)**2)**-1\n",
    "            list_k_neighbours.append([i,distance])\n",
    "    \n",
    "    list_k_neighbours=sorted(list_k_neighbours,key=getKey)\n",
    "    return list_k_neighbours[:PERPLEXITY]"
   ]
  },
  {
   "cell_type": "code",
   "execution_count": 5,
   "id": "1da69319",
   "metadata": {},
   "outputs": [],
   "source": [
    "#compute the similarity pij between xi,xj in the original space\n",
    "#divide the distance between xi,xj with the sum of the distances of the k-neighbours where k is the complexity\n",
    "def compute_pij(x,x1_index,x2_index):\n",
    "    x1=x[x1_index]\n",
    "    x2=x[x2_index]\n",
    "    num=np.exp(-np.linalg.norm(x1-x2)**2/(2*g_kernel**2))\n",
    "    denom=0\n",
    "    list_k_neighbours=k_neighbours(x,x1_index,'p')\n",
    "    for i in list_k_neighbours:\n",
    "        denom+=i[1]\n",
    "    return num/denom"
   ]
  },
  {
   "cell_type": "code",
   "execution_count": 6,
   "id": "3cb2a466",
   "metadata": {},
   "outputs": [],
   "source": [
    "#compute the table p of xij  in the original space\n",
    "def compute_p(x):\n",
    "    table=np.zeros((x.shape[0],x.shape[0]))\n",
    "    for i in range(x.shape[0]):\n",
    "        for j in range(x.shape[0]):\n",
    "            if i!=j:\n",
    "                pij=compute_pij(x,i,j)\n",
    "                pji=compute_pij(x,j,i)\n",
    "                table[i,j]=(pij+pji)/(2*x.shape[0])\n",
    "                \n",
    "    return table"
   ]
  },
  {
   "cell_type": "code",
   "execution_count": 7,
   "id": "1c840839",
   "metadata": {},
   "outputs": [],
   "source": [
    "#compute the similarity qij between two yi,yj in the new space\n",
    "def compute_qij(y,y1_index,y2_index):\n",
    "    y1=y[y1_index]\n",
    "    y2=y[y2_index]\n",
    "    num=(1+np.linalg.norm(y1-y2)**2)**(-1)\n",
    "    denom=0\n",
    "    for i in k_neighbours(y,y1_index,'q'):\n",
    "        denom+=i[1]\n",
    "    return num/denom\n",
    "    "
   ]
  },
  {
   "cell_type": "code",
   "execution_count": 8,
   "id": "2ca0cdd2",
   "metadata": {},
   "outputs": [],
   "source": [
    "#compute the table q of the yij in the new space\n",
    "def compute_q(y):\n",
    "    table=np.zeros((y.shape[0],y.shape[0]))\n",
    "    for i in range(y.shape[0]):\n",
    "        for j in range(y.shape[0]):\n",
    "            if i!=j:\n",
    "                qij=compute_qij(y,i,j)\n",
    "                table[i,j]=qij\n",
    "    return table\n",
    "    "
   ]
  },
  {
   "cell_type": "code",
   "execution_count": 9,
   "id": "4bb2d49f",
   "metadata": {},
   "outputs": [],
   "source": [
    "#computing errors between 2 distributions using kl divergence\n",
    "def kl_divergence(p,q):\n",
    "    total=0\n",
    "    for i in range(p.shape[0]):\n",
    "        for j in range(q.shape[0]):\n",
    "            if q[i,j]!=0 and p[i,j]!=0:\n",
    "                total+=p[i,j]*np.log(p[i,j]/q[i,j])\n",
    "    return total"
   ]
  },
  {
   "cell_type": "code",
   "execution_count": 10,
   "id": "bf9a2400",
   "metadata": {},
   "outputs": [],
   "source": [
    "#optimizing errors we got using gradient descent\n",
    "#added momentum to increase speed\n",
    "def gradient_descent(p,q,y):\n",
    "    history=np.zeros((p.shape[0],2,y.shape[1]))\n",
    "    for iter in range(EPOCHS):\n",
    "        for i in range(y.shape[0]):\n",
    "            sum_value=0\n",
    "            for j in range(y.shape[0]):\n",
    "                sum_value+=((y[i]-y[j])*(p[i,j]-q[i,j])*(1+np.linalg.norm(y[i]-y[j]**2))**-1)\n",
    "            y[i]-=4*LR*sum_value+MOMENTUM*(history[i,1]-history[i,0])\n",
    "            history[i,0]=history[i,1]\n",
    "            history[i,1]=y[i]\n",
    "        if iter%100==0:\n",
    "            q=compute_q(y)\n",
    "            print(kl_divergence(p,q))\n",
    "    y-=np.mean(y)\n",
    "    y/=np.std(y)\n",
    "    return y"
   ]
  },
  {
   "cell_type": "code",
   "execution_count": 11,
   "id": "8cac02fe",
   "metadata": {},
   "outputs": [
    {
     "data": {
      "image/png": "[encoded data removed]",
      "text/plain": [
       "<Figure size 432x288 with 1 Axes>"
      ]
     },
     "metadata": {
      "needs_background": "light"
     },
     "output_type": "display_data"
    },
    {
     "name": "stdout",
     "output_type": "stream",
     "text": [
      "-22.804439606404586\n",
      "-39.308303391427906\n",
      "-24.32494264701541\n",
      "-22.36368657020696\n",
      "-22.31608325963177\n",
      "-22.287790083767785\n",
      "-22.268170434320957\n",
      "-22.254137184065403\n",
      "-22.243923150189822\n",
      "-22.235774783853724\n",
      "-22.22931733924157\n",
      "-22.22417652313359\n",
      "-22.220092035677364\n",
      "-22.216856691513005\n",
      "-22.214338633150543\n",
      "-22.2124335541173\n",
      "-22.211057386082782\n",
      "-22.210141318012408\n",
      "-22.209628290641216\n",
      "-22.209470461460473\n"
     ]
    },
    {
     "data": {
      "image/png": "[encoded data removed]",
      "text/plain": [
       "<Figure size 432x288 with 1 Axes>"
      ]
     },
     "metadata": {
      "needs_background": "light"
     },
     "output_type": "display_data"
    }
   ],
   "source": [
    "def main():\n",
    "    x=np.random.rand(10,3)\n",
    "    x=np.tile(x,(2,1))\n",
    "    x[:10]*=0.1\n",
    "    color=['blue']*10+['red']*10\n",
    "    fig=plt.figure()\n",
    "    ax=fig.add_subplot(111,projection='3d')\n",
    "    ax.scatter(x[:,0],x[:,1],x[:,2],color=color)\n",
    "    plt.show()\n",
    "    \n",
    "    table_p=compute_p(x)\n",
    "    \n",
    "    #initializing new space y\n",
    "    y=x.dot(np.random.rand(x.shape[1],2))\n",
    "    y-=np.mean(y)\n",
    "    y/=np.std(y)\n",
    "    table_q=compute_q(y)\n",
    "    y=gradient_descent(table_p,table_q,y)\n",
    "    \n",
    "    plt.scatter(y[:,0],y[:,1],color=color)\n",
    "    plt.show()\n",
    "    \n",
    "main()"
   ]
  },
  {
   "cell_type": "code",
   "execution_count": null,
   "id": "fb9e20f3",
   "metadata": {},
   "outputs": [],
   "source": []
  },
  {
   "cell_type": "code",
   "execution_count": null,
   "id": "14843956",
   "metadata": {},
   "outputs": [],
   "source": []
  }
 ],
 "metadata": {
  "kernelspec": {
   "display_name": "Python 3 (ipykernel)",
   "language": "python",
   "name": "python3"
  },
  "language_info": {
   "codemirror_mode": {
    "name": "ipython",
    "version": 3
   },
   "file_extension": ".py",
   "mimetype": "text/x-python",
   "name": "python",
   "nbconvert_exporter": "python",
   "pygments_lexer": "ipython3",
   "version": "3.9.7"
  }
 },
 "nbformat": 4,
 "nbformat_minor": 5
}
